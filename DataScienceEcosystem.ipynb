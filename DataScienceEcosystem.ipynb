{
  "cells": [
    {
      "cell_type": "markdown",
      "metadata": {
        "id": "-ANG-y7Cndm5"
      },
      "source": [
        "<center>\n",
        "    <img src=\"https://cf-courses-data.s3.us.cloud-object-storage.appdomain.cloud/IBMDeveloperSkillsNetwork-DS0105EN-SkillsNetwork/labs/Module2/images/SN_web_lightmode.png\" width=\"300\" alt=\"cognitiveclass.ai logo\">\n",
        "</center>\n"
      ]
    },
    {
      "cell_type": "markdown",
      "metadata": {
        "id": "SNXxcgKondm9"
      },
      "source": [
        "#### Exercise 2: Create markdown cell with title of the notebook\n",
        "\n",
        "Create a markdown cell with the title Data Science Tools and Ecosystem using H1 style heading.\n"
      ]
    },
    {
      "cell_type": "markdown",
      "metadata": {
        "id": "XX7VQyhLndm9"
      },
      "source": [
        "# Data Science Tools and Ecosystem"
      ]
    },
    {
      "cell_type": "markdown",
      "metadata": {
        "id": "gRgtIN0Rndm-"
      },
      "source": [
        "#### Exercise 3 - Create a markdown cell for an introduction\n",
        "Write an introductory sentence about the notebook such as the follows:\n",
        "In this notebook, Data Science Tools and Ecosystem are summarized."
      ]
    },
    {
      "cell_type": "markdown",
      "metadata": {
        "tags": [],
        "id": "031TDRs3ndm-"
      },
      "source": [
        "In this notebook, Data Science Tools and Ecosystem are summarized."
      ]
    },
    {
      "cell_type": "markdown",
      "metadata": {
        "id": "VuyI-5T_ndm-"
      },
      "source": [
        "#### Exercise 10 - Insert a markdown cell to list Objectives\n",
        "\n",
        "Below the introduction cell created in Exercise 3, insert a new markdown cell to list the objectives that this notebook covered (i.e. some of the key takeaways from the course). In this new cell start with an introductory line titled: Objectives: in bold font. Then using an unordered list (bullets) indicate 3 to 5 items covered in this notebook, such as List popular languages for Data Science."
      ]
    },
    {
      "cell_type": "markdown",
      "metadata": {
        "id": "TzRtwAbDndm_"
      },
      "source": [
        "**Objectives:**\n",
        "- List popular languages for Data Science\n",
        "- List popular tools for Data Science\n",
        "- List popular libraries for Data Science"
      ]
    },
    {
      "cell_type": "markdown",
      "metadata": {
        "id": "GaXZ5RLzndm_"
      },
      "source": [
        "#### Exercise 4 - Create a markdown cell to list data science languages\n",
        "\n",
        "Start the cell with an overview line such as:\n",
        "\n",
        "Some of the popular languages that Data Scientists use are:\n",
        "Then create an ordered list (i.e. numbered) listing 3 (or more) commonly used languages for data science."
      ]
    },
    {
      "cell_type": "markdown",
      "metadata": {
        "id": "C9FQb-DWndnA"
      },
      "source": [
        "1. Python\n",
        "2. R\n",
        "3. SQL\n",
        "4. Java\n",
        "5. C++"
      ]
    },
    {
      "cell_type": "markdown",
      "metadata": {
        "id": "1rp9f85vndnA"
      },
      "source": [
        "#### Exercise 5 - Create a markdown cell to list data science libraries\n",
        "\n",
        "Add an overview line to the cell like:\n",
        "\n",
        "Some of the commonly used libraries used by Data Scientists include:\n",
        "Below this line add an ordered list listing 3 (or more) commonly used libraries in data science."
      ]
    },
    {
      "cell_type": "markdown",
      "metadata": {
        "id": "fNd--mDzndnA"
      },
      "source": [
        "1. Numpy\n",
        "2. Pandas\n",
        "3. Tensorflow\n",
        "4. Pytorch"
      ]
    },
    {
      "cell_type": "markdown",
      "metadata": {
        "id": "X1hzNiyYndnA"
      },
      "source": [
        "#### Exercise 6 - Create a markdown cell with a table of Data Science tools\n",
        "\n",
        "Create a single column table in this cell with the first row containing the header Data Science Tools. The subsequent three rows in the table should indicate three development environment open source tools used in data science.\n",
        "\n"
      ]
    },
    {
      "cell_type": "markdown",
      "metadata": {
        "tags": [],
        "id": "y_QnboxbndnB"
      },
      "source": [
        "| Data Science Tools |\n",
        "|--------------------|\n",
        "| MySQL |\n",
        "| Apache AirFlow |\n",
        "|Pixie Dust|\n",
        "|IBM Watson Studio|\n",
        "|Apache PredictionIO|\n",
        "|ModelDB|"
      ]
    },
    {
      "cell_type": "markdown",
      "metadata": {
        "id": "-DZQn7pdndnB"
      },
      "source": [
        "#### Exercise 7 - Create a markdown cell introducing arithmetic expression examples\n",
        "\n",
        "Add a line in this cell with H3 style heading with text like:\n",
        "\n",
        "Below are a few examples of evaluating arithmetic expressions in Python."
      ]
    },
    {
      "cell_type": "markdown",
      "metadata": {
        "id": "yBjOVmhVndnB"
      },
      "source": [
        "### Below are a few examples of evaluating arithmetic expressions in Python."
      ]
    },
    {
      "cell_type": "markdown",
      "metadata": {
        "id": "l_BNRp6ZndnB"
      },
      "source": [
        "#### Exercise 8 - Create a code cell to multiply and add numbers\n",
        "\n",
        "In this code cell evaluate the expression (3*4)+5.\n",
        "Insert a comment line before the expression to explain the operation e.g.  This a simple arithmetic expression to mutiply then add integers.\n",
        "Then execute the cell to ensure the expression returns the expected output of 17."
      ]
    },
    {
      "cell_type": "code",
      "execution_count": 2,
      "metadata": {
        "vscode": {
          "languageId": "plaintext"
        },
        "colab": {
          "base_uri": "https://localhost:8080/"
        },
        "id": "V8HRFMrKndnB",
        "outputId": "e0ff6e19-a8f8-4e37-c38c-f186ae3b0b52"
      },
      "outputs": [
        {
          "output_type": "execute_result",
          "data": {
            "text/plain": [
              "17"
            ]
          },
          "metadata": {},
          "execution_count": 2
        }
      ],
      "source": [
        "# This a simple arithmetic expression to mutiply then add integers\n",
        "(3*4)+5"
      ]
    },
    {
      "cell_type": "markdown",
      "metadata": {
        "id": "BrqFhTGgndnC"
      },
      "source": [
        "#### Exercise 9 - Create a code cell to convert minutes to hours\n",
        "\n",
        "In this code cell write an expression that converts 200 minutes into hours.\n",
        "Insert a comment line before the expression to explain the operation e.g.  This will convert 200 minutes to hours by diving by 60.\n",
        "Run the cell to evaluate the expression."
      ]
    },
    {
      "cell_type": "code",
      "source": [
        "# This will convert 200 minutes to hours by diving by 60\n",
        "200/60"
      ],
      "metadata": {
        "colab": {
          "base_uri": "https://localhost:8080/"
        },
        "id": "Vu7QACVxoT07",
        "outputId": "27ebf70a-2f41-4edc-c69d-a2861a93a2e6"
      },
      "execution_count": 1,
      "outputs": [
        {
          "output_type": "execute_result",
          "data": {
            "text/plain": [
              "3.3333333333333335"
            ]
          },
          "metadata": {},
          "execution_count": 1
        }
      ]
    },
    {
      "cell_type": "markdown",
      "source": [
        "#### Exercise 11 - Create a markdown cell to indicate the Author's name\n",
        "\n",
        "In this markdown cell markdown cell include the following text Author in H2 style heading. Include your name as regular text below the word Author."
      ],
      "metadata": {
        "id": "kMTPAnqPpE56"
      }
    },
    {
      "cell_type": "markdown",
      "source": [
        "## Author\n",
        "Xinye Wanyan"
      ],
      "metadata": {
        "id": "FiskZgxzpHi8"
      }
    },
    {
      "cell_type": "code",
      "source": [],
      "metadata": {
        "id": "yg_8WxiipS-H"
      },
      "execution_count": null,
      "outputs": []
    }
  ],
  "metadata": {
    "kernelspec": {
      "display_name": "Python",
      "language": "python",
      "name": "conda-env-python-py"
    },
    "language_info": {
      "codemirror_mode": {
        "name": "ipython",
        "version": 3
      },
      "file_extension": ".py",
      "mimetype": "text/x-python",
      "name": "python",
      "nbconvert_exporter": "python",
      "pygments_lexer": "ipython3",
      "version": "3.7.12"
    },
    "colab": {
      "provenance": []
    }
  },
  "nbformat": 4,
  "nbformat_minor": 0
}